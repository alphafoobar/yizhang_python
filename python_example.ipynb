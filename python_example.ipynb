{
 "cells": [
  {
   "cell_type": "code",
   "execution_count": 8,
   "metadata": {},
   "outputs": [
    {
     "name": "stdout",
     "output_type": "stream",
     "text": [
      "Yi , you are so young!!!\n",
      "Oracle\n",
      "Red Hat\n",
      "BNC\n"
     ]
    }
   ],
   "source": [
    "class Employee(object):\n",
    "    name = None\n",
    "    male = True\n",
    "    age = 2**5 - (10 / 3 + 1) * 4 % 13\n",
    "    experiences = []\n",
    "\n",
    "    def __init__(self, name, experiences):\n",
    "        self.name = name\n",
    "        self.experiences = experiences\n",
    "        super(Employee, self).__init__()\n",
    "\n",
    "    def getName(self):\n",
    "        return self.name\n",
    "\n",
    "    def getExperiences(self):\n",
    "        return self.experiences\n",
    "\n",
    "\n",
    "employee = Employee(\"Yi\", ['Oracle', 'Red Hat', 'BNC'])\n",
    "if employee.age < 70:\n",
    "    print employee.getName() + \" , you are so young!!!\"\n",
    "else:\n",
    "    print \"You are still not old\"\n",
    "\n",
    "experiences = employee.getExperiences()\n",
    "if 'Oracle' in experiences and 'BNC' in experiences:\n",
    "    for exp in experiences:\n",
    "        print \"How many years are\"exp\n"
   ]
  },
  {
   "cell_type": "code",
   "execution_count": null,
   "metadata": {},
   "outputs": [],
   "source": []
  }
 ],
 "metadata": {
  "kernelspec": {
   "display_name": "Python 2",
   "language": "python",
   "name": "python2"
  },
  "language_info": {
   "codemirror_mode": {
    "name": "ipython",
    "version": 2
   },
   "file_extension": ".py",
   "mimetype": "text/x-python",
   "name": "python",
   "nbconvert_exporter": "python",
   "pygments_lexer": "ipython2",
   "version": "2.7.15"
  }
 },
 "nbformat": 4,
 "nbformat_minor": 2
}
